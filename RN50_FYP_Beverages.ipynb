{
  "cells": [
    {
      "cell_type": "code",
      "execution_count": null,
      "metadata": {
        "colab": {
          "base_uri": "https://localhost:8080/"
        },
        "id": "M_sAi8z2IXE8",
        "outputId": "6f71ca39-359f-4310-8a52-95f954cf1950"
      },
      "outputs": [
        {
          "output_type": "stream",
          "name": "stdout",
          "text": [
            "CUDA version: 11.1\n"
          ]
        }
      ],
      "source": [
        "import subprocess\n",
        " \n",
        "CUDA_version = [s for s in subprocess.check_output([\"nvcc\", \"--version\"]).decode(\"UTF-8\").split(\", \") if s.startswith(\"release\")][0].split(\" \")[-1]\n",
        "print(\"CUDA version:\", CUDA_version)\n",
        " \n",
        "if CUDA_version == \"10.0\":\n",
        "    torch_version_suffix = \"+cu100\"\n",
        "elif CUDA_version == \"10.1\":\n",
        "    torch_version_suffix = \"+cu101\"\n",
        "elif CUDA_version == \"10.2\":\n",
        "    torch_version_suffix = \"\"\n",
        "else:\n",
        "  torch_version_suffix = \"+cu110\""
      ]
    },
    {
      "cell_type": "code",
      "execution_count": null,
      "metadata": {
        "colab": {
          "base_uri": "https://localhost:8080/"
        },
        "id": "4eWiQKndIZ2N",
        "outputId": "ff4883d5-3035-4dd7-b609-7db369cb167d"
      },
      "outputs": [
        {
          "output_type": "stream",
          "name": "stdout",
          "text": [
            "Looking in indexes: https://pypi.org/simple, https://us-python.pkg.dev/colab-wheels/public/simple/\n",
            "Looking in links: https://download.pytorch.org/whl/torch_stable.html\n",
            "Requirement already satisfied: torch==1.7.1+cu110 in /usr/local/lib/python3.7/dist-packages (1.7.1+cu110)\n",
            "Requirement already satisfied: torchvision==0.8.2+cu110 in /usr/local/lib/python3.7/dist-packages (0.8.2+cu110)\n",
            "Requirement already satisfied: numpy in /usr/local/lib/python3.7/dist-packages (from torch==1.7.1+cu110) (1.21.6)\n",
            "Requirement already satisfied: typing-extensions in /usr/local/lib/python3.7/dist-packages (from torch==1.7.1+cu110) (4.2.0)\n",
            "Requirement already satisfied: pillow>=4.1.1 in /usr/local/lib/python3.7/dist-packages (from torchvision==0.8.2+cu110) (7.1.2)\n",
            "Looking in indexes: https://pypi.org/simple, https://us-python.pkg.dev/colab-wheels/public/simple/\n",
            "Requirement already satisfied: ftfy in /usr/local/lib/python3.7/dist-packages (6.1.1)\n",
            "Requirement already satisfied: regex in /usr/local/lib/python3.7/dist-packages (2022.6.2)\n",
            "Requirement already satisfied: wcwidth>=0.2.5 in /usr/local/lib/python3.7/dist-packages (from ftfy) (0.2.5)\n",
            "Torch version: 1.7.1+cu110\n"
          ]
        }
      ],
      "source": [
        "!pip install torch==1.7.1{torch_version_suffix} torchvision==0.8.2{torch_version_suffix} -f https://download.pytorch.org/whl/torch_stable.html\n",
        "!pip install ftfy regex\n",
        "\n",
        "import torch\n",
        "\n",
        "print(\"Torch version:\", torch.__version__)"
      ]
    },
    {
      "cell_type": "code",
      "execution_count": null,
      "metadata": {
        "colab": {
          "base_uri": "https://localhost:8080/"
        },
        "id": "4o3c3AuYQvr3",
        "outputId": "88dab87a-841b-4d4e-9774-912733257fe9"
      },
      "outputs": [
        {
          "output_type": "stream",
          "name": "stdout",
          "text": [
            "Train on gpu: True\n",
            "1 gpus detected.\n"
          ]
        }
      ],
      "source": [
        "#Checking for GPU:\n",
        "batch_size=50\n",
        "from torch import cuda\n",
        "train_on_gpu = cuda.is_available()\n",
        "print(f'Train on gpu: {train_on_gpu}')\n",
        "if train_on_gpu:\n",
        "    gpu_count = cuda.device_count()\n",
        "    print(f'{gpu_count} gpus detected.')\n",
        "    if gpu_count > 1:\n",
        "        multi_gpu = True\n",
        "    else:\n",
        "        multi_gpu = False"
      ]
    },
    {
      "cell_type": "code",
      "execution_count": null,
      "metadata": {
        "id": "RVrG0g0DIgZW",
        "colab": {
          "base_uri": "https://localhost:8080/"
        },
        "outputId": "18d924a9-bb65-45b9-b219-77861aabe6fd"
      },
      "outputs": [
        {
          "output_type": "stream",
          "name": "stdout",
          "text": [
            "Mounted at /content/gdrive\n"
          ]
        }
      ],
      "source": [
        "from google.colab import drive\n",
        "drive.mount('/content/gdrive', force_remount=True)"
      ]
    },
    {
      "cell_type": "code",
      "execution_count": null,
      "metadata": {
        "id": "V_883vlVInAh"
      },
      "outputs": [],
      "source": [
        "# make directory to hold images\n",
        "import os \n",
        "\n",
        "#if 'images' not in os.listdir():\n",
        "#!mkdir /content/images/\n",
        "# !rm -r /content/images/\n",
        "\n",
        "# unzip and extract\n",
        "# !cp -r /content/gdrive/MyDrive/Exotic_Food_Dataset/ExoticFood/ /content/images/\n",
        "!unzip -uq '/content/gdrive/MyDrive/FinalYearProject-Group11/Datasets/Image_Database_Beverages.zip' -d \"/content/images\""
      ]
    },
    {
      "cell_type": "code",
      "execution_count": null,
      "metadata": {
        "id": "gdQojtU6NMd8",
        "colab": {
          "base_uri": "https://localhost:8080/"
        },
        "outputId": "7c094ceb-3edf-4fa6-a63a-ba0f065db52a"
      },
      "outputs": [
        {
          "output_type": "stream",
          "name": "stdout",
          "text": [
            "mkdir: cannot create directory ‘data/’: File exists\n"
          ]
        }
      ],
      "source": [
        "import os\n",
        "!mkdir data/\n",
        "!rm -rf data/\n",
        "!rm -rf data/train\n",
        "!rm -rf data/test\n",
        "!rm -rf data/val\n",
        "!mkdir data/\n",
        "!mkdir data/train\n",
        "!mkdir data/test\n",
        "!mkdir data/val"
      ]
    },
    {
      "cell_type": "code",
      "execution_count": null,
      "metadata": {
        "id": "_Qq6Jzs8NXJ5",
        "colab": {
          "base_uri": "https://localhost:8080/"
        },
        "outputId": "77716946-8fc9-4fa5-df51-27d0d86a8d53"
      },
      "outputs": [
        {
          "output_type": "stream",
          "name": "stdout",
          "text": [
            "# of images: 271\n",
            "# of labels: 271\n"
          ]
        }
      ],
      "source": [
        "import os\n",
        "image_urls = []\n",
        "labels = []\n",
        "\n",
        "path = '/content/images/Image_Database_Beverages'\n",
        "\n",
        "\n",
        "for folder in os.listdir(path):\n",
        "  if folder != '.DS_Store':\n",
        "    for file in os.listdir(os.path.join(path, folder)):\n",
        "      if file != '.DS_Store':\n",
        "        url = os.path.join(path, folder, file)\n",
        "        image_urls.append(url)\n",
        "        name = folder#.replace('_',' ')\n",
        "        labels.append(name)\n",
        "\n",
        "\n",
        "print(f'# of images: {len(image_urls)}')\n",
        "print(f'# of labels: {len(labels)}')"
      ]
    },
    {
      "cell_type": "code",
      "execution_count": null,
      "metadata": {
        "id": "3498MuxFNYNm"
      },
      "outputs": [],
      "source": [
        "class_to_idx = {v:k for k,v in enumerate(sorted(set(labels)))}\n",
        "idx_to_class = {k:v for v,k in class_to_idx.items()}\n",
        "\n",
        "list_of_targets = [class_to_idx[label] for label in labels]"
      ]
    },
    {
      "cell_type": "code",
      "execution_count": null,
      "metadata": {
        "id": "fXyuLygvNdIv"
      },
      "outputs": [],
      "source": [
        "import pandas as pd\n",
        "df = pd.DataFrame(list(zip(image_urls, labels, list_of_targets)), columns = ['image_urls', 'labels', 'targets'])"
      ]
    },
    {
      "cell_type": "code",
      "execution_count": null,
      "metadata": {
        "id": "CupJ6lNMNMXe"
      },
      "outputs": [],
      "source": [
        "Names = sorted(set(labels))"
      ]
    },
    {
      "cell_type": "code",
      "execution_count": null,
      "metadata": {
        "id": "Eo7wXhmNNv0S",
        "colab": {
          "base_uri": "https://localhost:8080/"
        },
        "outputId": "55037f10-824f-48c7-aa80-588db05eba01"
      },
      "outputs": [
        {
          "output_type": "stream",
          "name": "stdout",
          "text": [
            "Number of classes: 12\n"
          ]
        }
      ],
      "source": [
        "n_classes = len(Names)\n",
        "print('Number of classes:',n_classes)"
      ]
    },
    {
      "cell_type": "code",
      "execution_count": null,
      "metadata": {
        "id": "UPo4dzCiNMRR"
      },
      "outputs": [],
      "source": [
        "from sklearn.model_selection import train_test_split\n",
        "X_train, X_test, _, _ = train_test_split(df, df['labels'],stratify=df['labels'], test_size=0.3)\n",
        "X_test, X_val, _, _ = train_test_split(X_test, X_test['labels'], stratify=X_test['labels'], test_size=0.5)"
      ]
    },
    {
      "cell_type": "code",
      "execution_count": null,
      "metadata": {
        "id": "nGrQVkXJN2dq"
      },
      "outputs": [],
      "source": [
        "X_train['Type'] = 'train'\n",
        "X_test['Type'] = 'test'\n",
        "X_val['Type'] = 'val'\n",
        "df = pd.concat([X_train,X_test, X_val])"
      ]
    },
    {
      "cell_type": "code",
      "execution_count": null,
      "metadata": {
        "id": "39FzATqUNMNl",
        "colab": {
          "base_uri": "https://localhost:8080/",
          "height": 534
        },
        "outputId": "b0d919e3-4e31-4f78-a7ee-ce29c1e2e501"
      },
      "outputs": [
        {
          "output_type": "execute_result",
          "data": {
            "text/plain": [
              "                                            image_urls  \\\n",
              "204  /content/images/Image_Database_Beverages/V8_Ju...   \n",
              "134  /content/images/Image_Database_Beverages/Kool-...   \n",
              "113  /content/images/Image_Database_Beverages/Sunki...   \n",
              "206  /content/images/Image_Database_Beverages/V8_Ju...   \n",
              "210  /content/images/Image_Database_Beverages/V8_Ju...   \n",
              "..                                                 ...   \n",
              "172  /content/images/Image_Database_Beverages/Welch...   \n",
              "197  /content/images/Image_Database_Beverages/V8_Ju...   \n",
              "117  /content/images/Image_Database_Beverages/Sunki...   \n",
              "64   /content/images/Image_Database_Beverages/Dole_...   \n",
              "4    /content/images/Image_Database_Beverages/Coke ...   \n",
              "\n",
              "                         labels  targets   Type  \n",
              "204                    V8_Juice       10  train  \n",
              "134                    Kool-Aid        5  train  \n",
              "113                     Sunkist        8  train  \n",
              "206                    V8_Juice       10  train  \n",
              "210                    V8_Juice       10  train  \n",
              "..                          ...      ...    ...  \n",
              "172  Welchs_Concord_Grape_Juice       11    val  \n",
              "197                    V8_Juice       10    val  \n",
              "117                     Sunkist        8    val  \n",
              "64            Dole_Orange_Juice        2    val  \n",
              "4                    Coke _Zero        0    val  \n",
              "\n",
              "[271 rows x 4 columns]"
            ],
            "text/html": [
              "\n",
              "  <div id=\"df-f65146a7-ed38-4a6b-95fd-3dd100112d25\">\n",
              "    <div class=\"colab-df-container\">\n",
              "      <div>\n",
              "<style scoped>\n",
              "    .dataframe tbody tr th:only-of-type {\n",
              "        vertical-align: middle;\n",
              "    }\n",
              "\n",
              "    .dataframe tbody tr th {\n",
              "        vertical-align: top;\n",
              "    }\n",
              "\n",
              "    .dataframe thead th {\n",
              "        text-align: right;\n",
              "    }\n",
              "</style>\n",
              "<table border=\"1\" class=\"dataframe\">\n",
              "  <thead>\n",
              "    <tr style=\"text-align: right;\">\n",
              "      <th></th>\n",
              "      <th>image_urls</th>\n",
              "      <th>labels</th>\n",
              "      <th>targets</th>\n",
              "      <th>Type</th>\n",
              "    </tr>\n",
              "  </thead>\n",
              "  <tbody>\n",
              "    <tr>\n",
              "      <th>204</th>\n",
              "      <td>/content/images/Image_Database_Beverages/V8_Ju...</td>\n",
              "      <td>V8_Juice</td>\n",
              "      <td>10</td>\n",
              "      <td>train</td>\n",
              "    </tr>\n",
              "    <tr>\n",
              "      <th>134</th>\n",
              "      <td>/content/images/Image_Database_Beverages/Kool-...</td>\n",
              "      <td>Kool-Aid</td>\n",
              "      <td>5</td>\n",
              "      <td>train</td>\n",
              "    </tr>\n",
              "    <tr>\n",
              "      <th>113</th>\n",
              "      <td>/content/images/Image_Database_Beverages/Sunki...</td>\n",
              "      <td>Sunkist</td>\n",
              "      <td>8</td>\n",
              "      <td>train</td>\n",
              "    </tr>\n",
              "    <tr>\n",
              "      <th>206</th>\n",
              "      <td>/content/images/Image_Database_Beverages/V8_Ju...</td>\n",
              "      <td>V8_Juice</td>\n",
              "      <td>10</td>\n",
              "      <td>train</td>\n",
              "    </tr>\n",
              "    <tr>\n",
              "      <th>210</th>\n",
              "      <td>/content/images/Image_Database_Beverages/V8_Ju...</td>\n",
              "      <td>V8_Juice</td>\n",
              "      <td>10</td>\n",
              "      <td>train</td>\n",
              "    </tr>\n",
              "    <tr>\n",
              "      <th>...</th>\n",
              "      <td>...</td>\n",
              "      <td>...</td>\n",
              "      <td>...</td>\n",
              "      <td>...</td>\n",
              "    </tr>\n",
              "    <tr>\n",
              "      <th>172</th>\n",
              "      <td>/content/images/Image_Database_Beverages/Welch...</td>\n",
              "      <td>Welchs_Concord_Grape_Juice</td>\n",
              "      <td>11</td>\n",
              "      <td>val</td>\n",
              "    </tr>\n",
              "    <tr>\n",
              "      <th>197</th>\n",
              "      <td>/content/images/Image_Database_Beverages/V8_Ju...</td>\n",
              "      <td>V8_Juice</td>\n",
              "      <td>10</td>\n",
              "      <td>val</td>\n",
              "    </tr>\n",
              "    <tr>\n",
              "      <th>117</th>\n",
              "      <td>/content/images/Image_Database_Beverages/Sunki...</td>\n",
              "      <td>Sunkist</td>\n",
              "      <td>8</td>\n",
              "      <td>val</td>\n",
              "    </tr>\n",
              "    <tr>\n",
              "      <th>64</th>\n",
              "      <td>/content/images/Image_Database_Beverages/Dole_...</td>\n",
              "      <td>Dole_Orange_Juice</td>\n",
              "      <td>2</td>\n",
              "      <td>val</td>\n",
              "    </tr>\n",
              "    <tr>\n",
              "      <th>4</th>\n",
              "      <td>/content/images/Image_Database_Beverages/Coke ...</td>\n",
              "      <td>Coke _Zero</td>\n",
              "      <td>0</td>\n",
              "      <td>val</td>\n",
              "    </tr>\n",
              "  </tbody>\n",
              "</table>\n",
              "<p>271 rows × 4 columns</p>\n",
              "</div>\n",
              "      <button class=\"colab-df-convert\" onclick=\"convertToInteractive('df-f65146a7-ed38-4a6b-95fd-3dd100112d25')\"\n",
              "              title=\"Convert this dataframe to an interactive table.\"\n",
              "              style=\"display:none;\">\n",
              "        \n",
              "  <svg xmlns=\"http://www.w3.org/2000/svg\" height=\"24px\"viewBox=\"0 0 24 24\"\n",
              "       width=\"24px\">\n",
              "    <path d=\"M0 0h24v24H0V0z\" fill=\"none\"/>\n",
              "    <path d=\"M18.56 5.44l.94 2.06.94-2.06 2.06-.94-2.06-.94-.94-2.06-.94 2.06-2.06.94zm-11 1L8.5 8.5l.94-2.06 2.06-.94-2.06-.94L8.5 2.5l-.94 2.06-2.06.94zm10 10l.94 2.06.94-2.06 2.06-.94-2.06-.94-.94-2.06-.94 2.06-2.06.94z\"/><path d=\"M17.41 7.96l-1.37-1.37c-.4-.4-.92-.59-1.43-.59-.52 0-1.04.2-1.43.59L10.3 9.45l-7.72 7.72c-.78.78-.78 2.05 0 2.83L4 21.41c.39.39.9.59 1.41.59.51 0 1.02-.2 1.41-.59l7.78-7.78 2.81-2.81c.8-.78.8-2.07 0-2.86zM5.41 20L4 18.59l7.72-7.72 1.47 1.35L5.41 20z\"/>\n",
              "  </svg>\n",
              "      </button>\n",
              "      \n",
              "  <style>\n",
              "    .colab-df-container {\n",
              "      display:flex;\n",
              "      flex-wrap:wrap;\n",
              "      gap: 12px;\n",
              "    }\n",
              "\n",
              "    .colab-df-convert {\n",
              "      background-color: #E8F0FE;\n",
              "      border: none;\n",
              "      border-radius: 50%;\n",
              "      cursor: pointer;\n",
              "      display: none;\n",
              "      fill: #1967D2;\n",
              "      height: 32px;\n",
              "      padding: 0 0 0 0;\n",
              "      width: 32px;\n",
              "    }\n",
              "\n",
              "    .colab-df-convert:hover {\n",
              "      background-color: #E2EBFA;\n",
              "      box-shadow: 0px 1px 2px rgba(60, 64, 67, 0.3), 0px 1px 3px 1px rgba(60, 64, 67, 0.15);\n",
              "      fill: #174EA6;\n",
              "    }\n",
              "\n",
              "    [theme=dark] .colab-df-convert {\n",
              "      background-color: #3B4455;\n",
              "      fill: #D2E3FC;\n",
              "    }\n",
              "\n",
              "    [theme=dark] .colab-df-convert:hover {\n",
              "      background-color: #434B5C;\n",
              "      box-shadow: 0px 1px 3px 1px rgba(0, 0, 0, 0.15);\n",
              "      filter: drop-shadow(0px 1px 2px rgba(0, 0, 0, 0.3));\n",
              "      fill: #FFFFFF;\n",
              "    }\n",
              "  </style>\n",
              "\n",
              "      <script>\n",
              "        const buttonEl =\n",
              "          document.querySelector('#df-f65146a7-ed38-4a6b-95fd-3dd100112d25 button.colab-df-convert');\n",
              "        buttonEl.style.display =\n",
              "          google.colab.kernel.accessAllowed ? 'block' : 'none';\n",
              "\n",
              "        async function convertToInteractive(key) {\n",
              "          const element = document.querySelector('#df-f65146a7-ed38-4a6b-95fd-3dd100112d25');\n",
              "          const dataTable =\n",
              "            await google.colab.kernel.invokeFunction('convertToInteractive',\n",
              "                                                     [key], {});\n",
              "          if (!dataTable) return;\n",
              "\n",
              "          const docLinkHtml = 'Like what you see? Visit the ' +\n",
              "            '<a target=\"_blank\" href=https://colab.research.google.com/notebooks/data_table.ipynb>data table notebook</a>'\n",
              "            + ' to learn more about interactive tables.';\n",
              "          element.innerHTML = '';\n",
              "          dataTable['output_type'] = 'display_data';\n",
              "          await google.colab.output.renderOutput(dataTable, element);\n",
              "          const docLink = document.createElement('div');\n",
              "          docLink.innerHTML = docLinkHtml;\n",
              "          element.appendChild(docLink);\n",
              "        }\n",
              "      </script>\n",
              "    </div>\n",
              "  </div>\n",
              "  "
            ]
          },
          "metadata": {},
          "execution_count": 123
        }
      ],
      "source": [
        "df"
      ]
    },
    {
      "cell_type": "code",
      "execution_count": null,
      "metadata": {
        "id": "dERdApo6OMAM"
      },
      "outputs": [],
      "source": [
        "for name in Names:\n",
        "  os.system(f\"mkdir data/train/'{name}'\") \n",
        "  os.system(f\"mkdir data/test/'{name}'\")\n",
        "  os.system(f\"mkdir data/val/'{name}'\")"
      ]
    },
    {
      "cell_type": "code",
      "execution_count": null,
      "metadata": {
        "id": "NODa2Yi8OL7A"
      },
      "outputs": [],
      "source": [
        "from shutil import copyfile\n",
        "for i,row in df.iterrows():\n",
        "    section = row['Type']\n",
        "    ipath = row['image_urls']\n",
        "    #print(ipath, opath)\n",
        "    opath = ipath.replace(f\"images/Image_Database_Beverages/\",f\"data/{section}/\")\n",
        "    copyfile(ipath, opath)"
      ]
    },
    {
      "cell_type": "code",
      "execution_count": null,
      "metadata": {
        "id": "_8yxWSOZPHQz"
      },
      "outputs": [],
      "source": [
        "traindir = '/content/data/train'\n",
        "testdir = '/content/data/test'\n",
        "valdir ='/content/data/val'"
      ]
    },
    {
      "cell_type": "code",
      "execution_count": null,
      "metadata": {
        "id": "njG8Bq51PLsV"
      },
      "outputs": [],
      "source": [
        "from torchvision import transforms\n",
        "image_transforms = {\n",
        "    'train':\n",
        "    transforms.Compose([\n",
        "        transforms.RandomResizedCrop(size=256, scale=(0.8, 1.0)),\n",
        "        transforms.RandomHorizontalFlip(),\n",
        "        transforms.RandomRotation(degrees=25),\n",
        "        transforms.ColorJitter(),\n",
        "        transforms.CenterCrop(size=224),\n",
        "        transforms.ToTensor(),\n",
        "        transforms.Normalize([0.485, 0.456, 0.406],[0.229, 0.224, 0.225]) \n",
        "    ]),\n",
        "\n",
        "    'test':\n",
        "    transforms.Compose([\n",
        "        transforms.Resize(size=256),\n",
        "        transforms.CenterCrop(size=224),\n",
        "        transforms.ToTensor(),\n",
        "        transforms.Normalize([0.485, 0.456, 0.406], [0.229, 0.224, 0.225])\n",
        "    ]), \n",
        "    \n",
        "    'val':\n",
        "    transforms.Compose([\n",
        "        transforms.Resize(size=256),\n",
        "        transforms.CenterCrop(size=224),\n",
        "        transforms.ToTensor(),\n",
        "        transforms.Normalize([0.485, 0.456, 0.406], [0.229, 0.224, 0.225])\n",
        "    ])\n",
        "}"
      ]
    },
    {
      "cell_type": "code",
      "execution_count": null,
      "metadata": {
        "id": "vs9RnFg7OL1X"
      },
      "outputs": [],
      "source": [
        "from torchvision import datasets\n",
        "data = {\n",
        "    'train':\n",
        "    datasets.ImageFolder(root=traindir, transform=image_transforms['test']),\n",
        "    'test':\n",
        "    datasets.ImageFolder(root=testdir, transform=image_transforms['train']), \n",
        "    'val':\n",
        "    datasets.ImageFolder(root=testdir, transform=image_transforms['train'])\n",
        "} "
      ]
    },
    {
      "cell_type": "code",
      "execution_count": null,
      "metadata": {
        "id": "gdR2FyLCPS50"
      },
      "outputs": [],
      "source": [
        "import matplotlib.pyplot as plt\n",
        "import numpy as np\n",
        "def imshow_tensor(image, ax=None, title=None):\n",
        "\n",
        "    if ax is None:\n",
        "        fig, ax = plt.subplots()\n",
        "\n",
        "    image = image.numpy().transpose((1, 2, 0))\n",
        "    mean = np.array([0.485, 0.456, 0.406])\n",
        "    std = np.array([0.229, 0.224, 0.225])\n",
        "    image = std * image + mean\n",
        "    image = np.clip(image, 0, 1)\n",
        "\n",
        "    ax.imshow(image)\n",
        "    plt.axis('off')\n",
        "\n",
        "    return ax, image "
      ]
    },
    {
      "cell_type": "code",
      "execution_count": null,
      "metadata": {
        "id": "F66ILBhqOLv5"
      },
      "outputs": [],
      "source": [
        "from torch.utils.data import DataLoader\n",
        "data = {\n",
        "    'train':\n",
        "    datasets.ImageFolder(root=traindir, transform=image_transforms['test']),\n",
        "    'test':\n",
        "    datasets.ImageFolder(root=testdir, transform=image_transforms['train']),\n",
        "    'val':\n",
        "    datasets.ImageFolder(root=testdir, transform=image_transforms['train'])\n",
        "}\n",
        "\n",
        "dataloaders = {\n",
        "    'train': DataLoader(data['train'], batch_size=batch_size, shuffle=True,num_workers=2),\n",
        "    'test': DataLoader(data['test'], batch_size=batch_size, shuffle=True,num_workers=2),\n",
        "    'val': DataLoader(data['val'], batch_size=batch_size, shuffle=True,num_workers=2)\n",
        "} "
      ]
    },
    {
      "cell_type": "code",
      "execution_count": null,
      "metadata": {
        "id": "heP_d7_EPuDB",
        "colab": {
          "base_uri": "https://localhost:8080/"
        },
        "outputId": "0e31c548-9509-4da7-a665-0ae7e31fda89"
      },
      "outputs": [
        {
          "output_type": "execute_result",
          "data": {
            "text/plain": [
              "(torch.Size([50, 3, 224, 224]), torch.Size([50]))"
            ]
          },
          "metadata": {},
          "execution_count": 131
        }
      ],
      "source": [
        "trainiter = iter(dataloaders['train'])\n",
        "features, labels = next(trainiter)\n",
        "features.shape, labels.shape "
      ]
    },
    {
      "cell_type": "code",
      "execution_count": null,
      "metadata": {
        "id": "CbwEULWmOLqw"
      },
      "outputs": [],
      "source": [
        "#Model:\n",
        "from torchvision import models\n",
        "model = models.resnet50(pretrained=True)"
      ]
    },
    {
      "cell_type": "code",
      "execution_count": null,
      "metadata": {
        "id": "9iJRaPxVPz4i"
      },
      "outputs": [],
      "source": [
        "for param in model.parameters():\n",
        "    param.requires_grad = False "
      ]
    },
    {
      "cell_type": "code",
      "execution_count": null,
      "metadata": {
        "id": "43TTaL4FPzva"
      },
      "outputs": [],
      "source": [
        "import torch.nn as nn\n",
        "n_inputs = model.fc.in_features\n",
        "model.fc = nn.Sequential(\n",
        "                      nn.Linear(n_inputs, 256),\n",
        "                      nn.ReLU(),\n",
        "                      nn.Dropout(0.4),\n",
        "                      nn.Linear(256, n_classes),\n",
        "                      nn.LogSoftmax(dim=1))"
      ]
    },
    {
      "cell_type": "code",
      "execution_count": null,
      "metadata": {
        "id": "MdG3c5TkP084",
        "colab": {
          "base_uri": "https://localhost:8080/"
        },
        "outputId": "a7da651d-d6bf-48af-f022-9b28347241e7"
      },
      "outputs": [
        {
          "output_type": "execute_result",
          "data": {
            "text/plain": [
              "Sequential(\n",
              "  (0): Linear(in_features=2048, out_features=256, bias=True)\n",
              "  (1): ReLU()\n",
              "  (2): Dropout(p=0.4, inplace=False)\n",
              "  (3): Linear(in_features=256, out_features=12, bias=True)\n",
              "  (4): LogSoftmax(dim=1)\n",
              ")"
            ]
          },
          "metadata": {},
          "execution_count": 135
        }
      ],
      "source": [
        "model.fc"
      ]
    },
    {
      "cell_type": "code",
      "execution_count": null,
      "metadata": {
        "id": "C_puNqDRP01P"
      },
      "outputs": [],
      "source": [
        "model = model.to('cuda') "
      ]
    },
    {
      "cell_type": "code",
      "execution_count": null,
      "metadata": {
        "id": "AiBAVUNHP0tR",
        "colab": {
          "base_uri": "https://localhost:8080/"
        },
        "outputId": "3f93bf55-2936-438f-a783-0103f5759fab"
      },
      "outputs": [
        {
          "output_type": "execute_result",
          "data": {
            "text/plain": [
              "[(0, 'Coke _Zero'),\n",
              " (1, 'Diet_Dr_Pepper'),\n",
              " (2, 'Dole_Orange_Juice'),\n",
              " (3, 'Fanta'),\n",
              " (4, 'Hawaiian_Punch'),\n",
              " (5, 'Kool-Aid'),\n",
              " (6, 'Minute_Maid_Orange'),\n",
              " (7, 'Snapple_Mango_Madness'),\n",
              " (8, 'Sunkist'),\n",
              " (9, 'Tropicana_Apple_Juice')]"
            ]
          },
          "metadata": {},
          "execution_count": 137
        }
      ],
      "source": [
        "model.class_to_idx = data['train'].class_to_idx\n",
        "model.idx_to_class = {\n",
        "    idx: class_\n",
        "    for class_, idx in model.class_to_idx.items()\n",
        "}\n",
        "\n",
        "list(model.idx_to_class.items())[:10] "
      ]
    },
    {
      "cell_type": "code",
      "execution_count": null,
      "metadata": {
        "id": "JXnkcvpgP0kl",
        "colab": {
          "base_uri": "https://localhost:8080/"
        },
        "outputId": "41bcc360-a4a8-4963-f538-eefe10e4ce81"
      },
      "outputs": [
        {
          "output_type": "stream",
          "name": "stdout",
          "text": [
            "torch.Size([256, 2048])\n",
            "torch.Size([256])\n",
            "torch.Size([12, 256])\n",
            "torch.Size([12])\n"
          ]
        }
      ],
      "source": [
        "from torch import optim\n",
        "criterion = nn.CrossEntropyLoss()\n",
        "optimizer = optim.Adam(model.parameters())\n",
        "for p in optimizer.param_groups[0]['params']:\n",
        "    if p.requires_grad:\n",
        "        print(p.shape) "
      ]
    },
    {
      "cell_type": "code",
      "execution_count": null,
      "metadata": {
        "id": "Ezn6miqiP0Zt"
      },
      "outputs": [],
      "source": [
        "#Function to train Model:\n",
        "from timeit import default_timer as timer\n",
        "def train(model,criterion,optimizer,train_loader, valid_loader, n_epochs=20, print_every=3):\n",
        "  history = []\n",
        "\n",
        "  for epoch in range(n_epochs):\n",
        "    train_loss = 0.0\n",
        "    train_acc = 0\n",
        "    valid_loss = 0.0\n",
        "    valid_acc = 0\n",
        "\n",
        "    model.train()\n",
        "    start = timer()\n",
        "\n",
        "    for i, (data, target) in enumerate(train_loader):\n",
        "      if train_on_gpu: \n",
        "        data, target = data.cuda(), target.cuda()\n",
        "      optimizer.zero_grad()\n",
        "      output = model(data)\n",
        "      loss = criterion(output, target)\n",
        "      loss.backward()\n",
        "      optimizer.step()\n",
        "      train_loss += loss.item() * data.size(0)\n",
        "      _, pred = torch.max(output, dim=1)\n",
        "      correct_tensor = pred.eq(target.data.view_as(pred))\n",
        "      accuracy = torch.mean(correct_tensor.type(torch.FloatTensor))\n",
        "      train_acc += accuracy.item() * data.size(0)\n",
        "    \n",
        "    else:\n",
        "      with torch.no_grad():\n",
        "        model.eval()\n",
        "        for data, target in valid_loader:\n",
        "          if train_on_gpu:\n",
        "            data, target = data.cuda(), target.cuda()\n",
        "          output = model(data)\n",
        "          loss = criterion(output, target)\n",
        "          valid_loss += loss.item()*data.size(0)\n",
        "          _, pred = torch.max(output, dim=1)\n",
        "          correct_tensor = pred.eq(target.data.view_as(pred))\n",
        "          accuracy = torch.mean(correct_tensor.type(torch.FloatTensor))\n",
        "          valid_acc += accuracy.item()*data.size(0)\n",
        "\n",
        "  train_loss = train_loss / len(train_loader.dataset)\n",
        "  train_acc = train_acc / len(train_loader.dataset)\n",
        "  valid_loss = valid_loss / len(valid_loader.dataset)\n",
        "  valid_acc = valid_acc / len(valid_loader.dataset)\n",
        "  history.append([train_loss, train_acc, valid_loss, valid_acc])\n",
        "\n",
        "  model.optimizer = optimizer\n",
        "  total_time = timer() \n",
        "  history = pd.DataFrame(history,columns=['Train_loss', 'Train_acc', 'Val_loss', 'Val_ac'])\n",
        "\n",
        "  return model, history"
      ]
    },
    {
      "cell_type": "code",
      "execution_count": null,
      "metadata": {
        "id": "dEAu-ZkqP0M5",
        "colab": {
          "base_uri": "https://localhost:8080/",
          "height": 100
        },
        "outputId": "60f6a380-8733-4ee3-ae3e-0a03721ec286"
      },
      "outputs": [
        {
          "output_type": "execute_result",
          "data": {
            "text/plain": [
              "   Train_loss  Train_acc  Val_loss    Val_ac\n",
              "0    0.507731   0.904762  1.097622  0.682927"
            ],
            "text/html": [
              "\n",
              "  <div id=\"df-66090e47-a49a-4670-8415-930499e7994e\">\n",
              "    <div class=\"colab-df-container\">\n",
              "      <div>\n",
              "<style scoped>\n",
              "    .dataframe tbody tr th:only-of-type {\n",
              "        vertical-align: middle;\n",
              "    }\n",
              "\n",
              "    .dataframe tbody tr th {\n",
              "        vertical-align: top;\n",
              "    }\n",
              "\n",
              "    .dataframe thead th {\n",
              "        text-align: right;\n",
              "    }\n",
              "</style>\n",
              "<table border=\"1\" class=\"dataframe\">\n",
              "  <thead>\n",
              "    <tr style=\"text-align: right;\">\n",
              "      <th></th>\n",
              "      <th>Train_loss</th>\n",
              "      <th>Train_acc</th>\n",
              "      <th>Val_loss</th>\n",
              "      <th>Val_ac</th>\n",
              "    </tr>\n",
              "  </thead>\n",
              "  <tbody>\n",
              "    <tr>\n",
              "      <th>0</th>\n",
              "      <td>0.507731</td>\n",
              "      <td>0.904762</td>\n",
              "      <td>1.097622</td>\n",
              "      <td>0.682927</td>\n",
              "    </tr>\n",
              "  </tbody>\n",
              "</table>\n",
              "</div>\n",
              "      <button class=\"colab-df-convert\" onclick=\"convertToInteractive('df-66090e47-a49a-4670-8415-930499e7994e')\"\n",
              "              title=\"Convert this dataframe to an interactive table.\"\n",
              "              style=\"display:none;\">\n",
              "        \n",
              "  <svg xmlns=\"http://www.w3.org/2000/svg\" height=\"24px\"viewBox=\"0 0 24 24\"\n",
              "       width=\"24px\">\n",
              "    <path d=\"M0 0h24v24H0V0z\" fill=\"none\"/>\n",
              "    <path d=\"M18.56 5.44l.94 2.06.94-2.06 2.06-.94-2.06-.94-.94-2.06-.94 2.06-2.06.94zm-11 1L8.5 8.5l.94-2.06 2.06-.94-2.06-.94L8.5 2.5l-.94 2.06-2.06.94zm10 10l.94 2.06.94-2.06 2.06-.94-2.06-.94-.94-2.06-.94 2.06-2.06.94z\"/><path d=\"M17.41 7.96l-1.37-1.37c-.4-.4-.92-.59-1.43-.59-.52 0-1.04.2-1.43.59L10.3 9.45l-7.72 7.72c-.78.78-.78 2.05 0 2.83L4 21.41c.39.39.9.59 1.41.59.51 0 1.02-.2 1.41-.59l7.78-7.78 2.81-2.81c.8-.78.8-2.07 0-2.86zM5.41 20L4 18.59l7.72-7.72 1.47 1.35L5.41 20z\"/>\n",
              "  </svg>\n",
              "      </button>\n",
              "      \n",
              "  <style>\n",
              "    .colab-df-container {\n",
              "      display:flex;\n",
              "      flex-wrap:wrap;\n",
              "      gap: 12px;\n",
              "    }\n",
              "\n",
              "    .colab-df-convert {\n",
              "      background-color: #E8F0FE;\n",
              "      border: none;\n",
              "      border-radius: 50%;\n",
              "      cursor: pointer;\n",
              "      display: none;\n",
              "      fill: #1967D2;\n",
              "      height: 32px;\n",
              "      padding: 0 0 0 0;\n",
              "      width: 32px;\n",
              "    }\n",
              "\n",
              "    .colab-df-convert:hover {\n",
              "      background-color: #E2EBFA;\n",
              "      box-shadow: 0px 1px 2px rgba(60, 64, 67, 0.3), 0px 1px 3px 1px rgba(60, 64, 67, 0.15);\n",
              "      fill: #174EA6;\n",
              "    }\n",
              "\n",
              "    [theme=dark] .colab-df-convert {\n",
              "      background-color: #3B4455;\n",
              "      fill: #D2E3FC;\n",
              "    }\n",
              "\n",
              "    [theme=dark] .colab-df-convert:hover {\n",
              "      background-color: #434B5C;\n",
              "      box-shadow: 0px 1px 3px 1px rgba(0, 0, 0, 0.15);\n",
              "      filter: drop-shadow(0px 1px 2px rgba(0, 0, 0, 0.3));\n",
              "      fill: #FFFFFF;\n",
              "    }\n",
              "  </style>\n",
              "\n",
              "      <script>\n",
              "        const buttonEl =\n",
              "          document.querySelector('#df-66090e47-a49a-4670-8415-930499e7994e button.colab-df-convert');\n",
              "        buttonEl.style.display =\n",
              "          google.colab.kernel.accessAllowed ? 'block' : 'none';\n",
              "\n",
              "        async function convertToInteractive(key) {\n",
              "          const element = document.querySelector('#df-66090e47-a49a-4670-8415-930499e7994e');\n",
              "          const dataTable =\n",
              "            await google.colab.kernel.invokeFunction('convertToInteractive',\n",
              "                                                     [key], {});\n",
              "          if (!dataTable) return;\n",
              "\n",
              "          const docLinkHtml = 'Like what you see? Visit the ' +\n",
              "            '<a target=\"_blank\" href=https://colab.research.google.com/notebooks/data_table.ipynb>data table notebook</a>'\n",
              "            + ' to learn more about interactive tables.';\n",
              "          element.innerHTML = '';\n",
              "          dataTable['output_type'] = 'display_data';\n",
              "          await google.colab.output.renderOutput(dataTable, element);\n",
              "          const docLink = document.createElement('div');\n",
              "          docLink.innerHTML = docLinkHtml;\n",
              "          element.appendChild(docLink);\n",
              "        }\n",
              "      </script>\n",
              "    </div>\n",
              "  </div>\n",
              "  "
            ]
          },
          "metadata": {},
          "execution_count": 140
        }
      ],
      "source": [
        "model, history = train(model, criterion, optimizer, dataloaders['train'], dataloaders['val'], n_epochs=10)\n",
        "history"
      ]
    },
    {
      "cell_type": "code",
      "execution_count": null,
      "metadata": {
        "id": "6dRTB_soUgHe"
      },
      "outputs": [],
      "source": [
        "#Function to process an Image path into a Tensor:\n",
        "from PIL import Image\n",
        "def process_image(image_path):\n",
        "\n",
        "    image = Image.open(image_path)\n",
        "    img = image.resize((256, 256))\n",
        "\n",
        "    width = 256\n",
        "    height = 256\n",
        "    new_width = 224\n",
        "    new_height = 224\n",
        "\n",
        "    left = (width - new_width) / 2\n",
        "    top = (height - new_height) / 2\n",
        "    right = (width + new_width) / 2\n",
        "    bottom = (height + new_height) / 2\n",
        "    img = img.crop((left, top, right, bottom))\n",
        "    img = np.array(img).transpose((2, 0, 1)) / 256\n",
        "    means = np.array([0.485, 0.456, 0.406]).reshape((3, 1, 1))\n",
        "    stds = np.array([0.229, 0.224, 0.225]).reshape((3, 1, 1))\n",
        "\n",
        "    img = img - means\n",
        "    img = img / stds\n",
        "\n",
        "    img_tensor = torch.Tensor(img)\n",
        "\n",
        "    return img_tensor"
      ]
    },
    {
      "cell_type": "code",
      "execution_count": null,
      "metadata": {
        "id": "YbSrTV0-UlS5"
      },
      "outputs": [],
      "source": [
        "#Function to make predictions on a single image:\n",
        "def predict(image_path, model, topk=3):\n",
        "    real_class = image_path.split('/')[-2]\n",
        "\n",
        "    img_tensor = process_image(image_path)\n",
        "\n",
        "    if train_on_gpu:\n",
        "        img_tensor = img_tensor.view(1, 3, 224, 224).cuda()\n",
        "    else:\n",
        "        img_tensor = img_tensor.view(1, 3, 224, 224)\n",
        "\n",
        "    with torch.no_grad():\n",
        "        model.eval()\n",
        "        out = model(img_tensor)\n",
        "        ps = torch.exp(out)\n",
        "\n",
        "        #Top 3 predictions\n",
        "        topk, topclass = ps.topk(topk, dim=1)\n",
        "        top_classes = [\n",
        "            model.idx_to_class[class_] for class_ in topclass.cpu().numpy()[0]\n",
        "        ]\n",
        "        top_p = topk.cpu().numpy()[0]\n",
        "\n",
        "        return img_tensor.cpu().squeeze(), top_p, top_classes, real_class"
      ]
    },
    {
      "cell_type": "code",
      "execution_count": null,
      "metadata": {
        "id": "3tAWu7YnXV6u",
        "colab": {
          "base_uri": "https://localhost:8080/"
        },
        "outputId": "a3383d87-d821-4e6d-db4b-a2f61d59fb8a"
      },
      "outputs": [
        {
          "output_type": "stream",
          "name": "stdout",
          "text": [
            "['Coke _Zero21.jpg', 'Coke _Zero64.jpg']\n"
          ]
        }
      ],
      "source": [
        "test_pths = os.listdir(\"/content/data/test/Coke _Zero\")\n",
        "img_path = '/content/data/test/Coke _Zero/'+str(test_pths[0])\n",
        "#print(test_pths)\n",
        "img, top_p, top_classes, real_class = predict(img_path, model,topk=3)"
      ]
    },
    {
      "cell_type": "code",
      "execution_count": null,
      "metadata": {
        "id": "8D-v5QISXyn_",
        "colab": {
          "base_uri": "https://localhost:8080/"
        },
        "outputId": "390ec106-1421-464e-dd00-b33b620d7b63"
      },
      "outputs": [
        {
          "output_type": "execute_result",
          "data": {
            "text/plain": [
              "(array([0.43635422, 0.23230177, 0.18297085], dtype=float32),\n",
              " ['Coke _Zero', 'Diet_Dr_Pepper', 'Welchs_Concord_Grape_Juice'])"
            ]
          },
          "metadata": {},
          "execution_count": 152
        }
      ],
      "source": [
        "top_p, top_classes"
      ]
    },
    {
      "cell_type": "code",
      "execution_count": null,
      "metadata": {
        "id": "7ubraVQeX1-c"
      },
      "outputs": [],
      "source": [
        "#Function to display Image and Predictions:\n",
        "def display_prediction(image_path, model, topk):\n",
        "    img, ps, classes, y_obs = predict(image_path, model, topk)\n",
        "    result = pd.DataFrame({'p': ps}, index=classes)\n",
        "    plt.figure(figsize=(16, 5))\n",
        "    ax = plt.subplot(1, 2, 1)\n",
        "    ax, img = imshow_tensor(img, ax=ax)\n",
        "    ax.set_title(y_obs, size=20)\n",
        "\n",
        "    ax = plt.subplot(1, 2, 2)\n",
        "    #Bar plot\n",
        "    result.sort_values('p')['p'].plot.barh(color='#2e4d7d', edgecolor='k', ax=ax)\n",
        "    plt.xlabel('Predicted Probability')\n",
        "    plt.tight_layout()"
      ]
    },
    {
      "cell_type": "code",
      "execution_count": null,
      "metadata": {
        "id": "no4t-w-7ZQ5Y",
        "colab": {
          "base_uri": "https://localhost:8080/",
          "height": 370
        },
        "outputId": "b05156a0-1525-4ccb-c7e7-eb479c9a88dc"
      },
      "outputs": [
        {
          "output_type": "display_data",
          "data": {
            "text/plain": [
              "<Figure size 1152x360 with 2 Axes>"
            ],
            "image/png": "[encoded data removed]"
          },
          "metadata": {
            "needs_background": "light"
          }
        }
      ],
      "source": [
        "display_prediction(img_path, model, topk=3)"
      ]
    },
    {
      "cell_type": "code",
      "execution_count": null,
      "metadata": {
        "id": "tNj8F1ZMZaU6"
      },
      "outputs": [],
      "source": [
        "def accuracy(output, target, topk=(1, )):\n",
        "    if train_on_gpu:\n",
        "        output = output.to('cuda')\n",
        "        target = target.to('cuda')\n",
        "\n",
        "    with torch.no_grad():\n",
        "        maxk = max(topk)\n",
        "        batch_size = target.size(0)\n",
        "        _, pred = output.topk(k=maxk, dim=1, largest=True, sorted=True)\n",
        "        pred = pred.t()\n",
        "        correct = pred.eq(target.view(1, -1).expand_as(pred))\n",
        "\n",
        "        res = []\n",
        "        for k in topk:\n",
        "            correct_k = correct[:k].view(-1).float().sum(0, keepdim=True)\n",
        "            res.append(correct_k.mul_(100.0 / batch_size).item())\n",
        "        return res"
      ]
    },
    {
      "cell_type": "code",
      "execution_count": null,
      "metadata": {
        "id": "0-uHhsr_ZfHs"
      },
      "outputs": [],
      "source": [
        "def evaluate(model, test_loader, criterion, topk=(1, 2, 3)):\n",
        "    confusion_matrix = torch.zeros(n_classes, n_classes)\n",
        "    classes = []\n",
        "    losses = []\n",
        "    acc_results = np.zeros((len(test_loader.dataset), len(topk)))\n",
        "    i = 0\n",
        "\n",
        "    model.eval()\n",
        "    with torch.no_grad():\n",
        "        for data, targets in test_loader:\n",
        "            if train_on_gpu:\n",
        "                data, targets = data.to('cuda'), targets.to('cuda')\n",
        "\n",
        "            out = model(data)\n",
        "            _, predscm = torch.max(out, 1)\n",
        "            for t, p in zip(targets.view(-1), predscm.view(-1)):\n",
        "                confusion_matrix[t.long(), p.long()] += 1\n",
        "          \n",
        "            for pred, true in zip(out, targets):\n",
        "                acc_results[i, :] = accuracy(\n",
        "                    pred.unsqueeze(0), true.unsqueeze(0), topk)\n",
        "                classes.append(model.idx_to_class[true.item()])\n",
        "                loss = criterion(pred.view(1, n_classes), true.view(1))\n",
        "                losses.append(loss.item())\n",
        "                i += 1\n",
        "\n",
        "    results = pd.DataFrame(acc_results, columns=[f'top{i}' for i in topk])\n",
        "    results['class'] = classes\n",
        "    results['loss'] = losses\n",
        "    results = results.groupby(classes).mean()\n",
        "\n",
        "    return results.reset_index().rename(columns={'index': 'class'}),confusion_matrix\n",
        "\n",
        "criterion = nn.NLLLoss()"
      ]
    },
    {
      "cell_type": "code",
      "execution_count": null,
      "metadata": {
        "id": "JMq_4yuAZiQJ"
      },
      "outputs": [],
      "source": [
        "import itertools\n",
        "import numpy as np\n",
        "import matplotlib.pyplot as plt\n",
        "\n",
        "def plot_confusion_matrix(cm, classes, normalize=False, title='Confusion matrix', cmap=plt.cm.Blues):\n",
        "    if normalize:\n",
        "        cm = cm.astype('float') / cm.sum(axis=1)[:, np.newaxis]\n",
        "        print(\"Normalized confusion matrix\")\n",
        "    else:\n",
        "        print('Confusion matrix, without normalization')\n",
        "\n",
        "    plt.imshow(cm, interpolation='nearest', cmap=cmap)\n",
        "    plt.title(title)\n",
        "    plt.colorbar()\n",
        "    tick_marks = np.arange(len(classes))\n",
        "    plt.xticks(tick_marks, classes, rotation=45)\n",
        "    plt.yticks(tick_marks, classes)\n",
        "\n",
        "    fmt = '.2f' if normalize else '.0f'\n",
        "    thresh = cm.max() / 2.\n",
        "    for i, j in itertools.product(range(cm.shape[0]), range(cm.shape[1])):\n",
        "        plt.text(j, i, format(cm[i, j], fmt), horizontalalignment=\"center\", color=\"white\" if cm[i, j] > thresh else \"black\")\n",
        "\n",
        "    plt.tight_layout()\n",
        "    plt.ylabel('True label')\n",
        "    plt.xlabel('Predicted label')\n",
        "    return plt"
      ]
    },
    {
      "cell_type": "code",
      "execution_count": null,
      "metadata": {
        "id": "8qhWiwjWZlXb"
      },
      "outputs": [],
      "source": [
        "results, confusion_matrix = evaluate(model, dataloaders['test'], criterion)"
      ]
    },
    {
      "cell_type": "code",
      "execution_count": null,
      "metadata": {
        "id": "UglqGGpqZqFv",
        "colab": {
          "base_uri": "https://localhost:8080/",
          "height": 1000
        },
        "outputId": "195cbe97-3014-4751-f06c-03efb67e214c"
      },
      "outputs": [
        {
          "output_type": "stream",
          "name": "stdout",
          "text": [
            "Confusion matrix, without normalization\n"
          ]
        },
        {
          "output_type": "display_data",
          "data": {
            "text/plain": [
              "<Figure size 1080x1080 with 2 Axes>"
            ],
            "image/png": "[encoded data removed]"
          },
          "metadata": {
            "needs_background": "light"
          }
        }
      ],
      "source": [
        "classnames = [model.idx_to_class[i] for i in range(0,n_classes)]\n",
        "plt.figure(figsize=(15,15))\n",
        "plt = plot_confusion_matrix(confusion_matrix, classnames)"
      ]
    },
    {
      "cell_type": "code",
      "execution_count": null,
      "metadata": {
        "id": "XJ9xZ729aiqE",
        "colab": {
          "base_uri": "https://localhost:8080/"
        },
        "outputId": "c86a1689-5ff6-4a87-c181-be5a94def796"
      },
      "outputs": [
        {
          "output_type": "stream",
          "name": "stdout",
          "text": [
            "Overall Accuracy:68.29268646240234%\n"
          ]
        }
      ],
      "source": [
        "print(f\"Overall Accuracy:{(confusion_matrix.diag().sum()/confusion_matrix.sum())*100}%\")"
      ]
    },
    {
      "cell_type": "code",
      "execution_count": null,
      "metadata": {
        "id": "pTK4AK71f1Dt"
      },
      "outputs": [],
      "source": [
        "#Model:\n",
        "from torchvision import models\n",
        "model2 = models.resnet50(pretrained=False)"
      ]
    },
    {
      "cell_type": "code",
      "execution_count": null,
      "metadata": {
        "id": "gucLqxGkgB59"
      },
      "outputs": [],
      "source": [
        "for param in model.parameters():\n",
        "    param.requires_grad = True "
      ]
    },
    {
      "cell_type": "code",
      "execution_count": null,
      "metadata": {
        "id": "m7LFUrcvgILj"
      },
      "outputs": [],
      "source": [
        "import torch.nn as nn\n",
        "n_inputs = model2.fc.in_features\n",
        "model2.fc = nn.Sequential(\n",
        "                      nn.Linear(n_inputs, 256),\n",
        "                      nn.ReLU(),\n",
        "                      nn.Dropout(0.4),\n",
        "                      nn.Linear(256, n_classes),\n",
        "                      nn.LogSoftmax(dim=1))"
      ]
    },
    {
      "cell_type": "code",
      "execution_count": null,
      "metadata": {
        "id": "XC2kNBjugYRu"
      },
      "outputs": [],
      "source": [
        "model2 = model2.to('cuda') "
      ]
    },
    {
      "cell_type": "code",
      "execution_count": null,
      "metadata": {
        "id": "MSD32OBxgeT2",
        "colab": {
          "base_uri": "https://localhost:8080/"
        },
        "outputId": "b3a295fc-15c0-4cd0-8e75-4347731cc417"
      },
      "outputs": [
        {
          "output_type": "execute_result",
          "data": {
            "text/plain": [
              "[(0, 'Coke _Zero'),\n",
              " (1, 'Diet_Dr_Pepper'),\n",
              " (2, 'Dole_Orange_Juice'),\n",
              " (3, 'Fanta'),\n",
              " (4, 'Hawaiian_Punch'),\n",
              " (5, 'Kool-Aid'),\n",
              " (6, 'Minute_Maid_Orange'),\n",
              " (7, 'Snapple_Mango_Madness'),\n",
              " (8, 'Sunkist'),\n",
              " (9, 'Tropicana_Apple_Juice')]"
            ]
          },
          "metadata": {},
          "execution_count": 166
        }
      ],
      "source": [
        "model2.class_to_idx = data['train'].class_to_idx\n",
        "model2.idx_to_class = {\n",
        "    idx: class_\n",
        "    for class_, idx in model2.class_to_idx.items()\n",
        "}\n",
        "\n",
        "list(model2.idx_to_class.items())[:10] "
      ]
    },
    {
      "cell_type": "code",
      "execution_count": null,
      "metadata": {
        "id": "BIQ6jGI7gk2s",
        "colab": {
          "base_uri": "https://localhost:8080/"
        },
        "outputId": "b7001bb8-6ca5-40ce-877a-c9523a7b8822"
      },
      "outputs": [
        {
          "output_type": "stream",
          "name": "stdout",
          "text": [
            "torch.Size([64, 3, 7, 7])\n",
            "torch.Size([64])\n",
            "torch.Size([64])\n",
            "torch.Size([64, 64, 1, 1])\n",
            "torch.Size([64])\n",
            "torch.Size([64])\n",
            "torch.Size([64, 64, 3, 3])\n",
            "torch.Size([64])\n",
            "torch.Size([64])\n",
            "torch.Size([256, 64, 1, 1])\n",
            "torch.Size([256])\n",
            "torch.Size([256])\n",
            "torch.Size([256, 64, 1, 1])\n",
            "torch.Size([256])\n",
            "torch.Size([256])\n",
            "torch.Size([64, 256, 1, 1])\n",
            "torch.Size([64])\n",
            "torch.Size([64])\n",
            "torch.Size([64, 64, 3, 3])\n",
            "torch.Size([64])\n",
            "torch.Size([64])\n",
            "torch.Size([256, 64, 1, 1])\n",
            "torch.Size([256])\n",
            "torch.Size([256])\n",
            "torch.Size([64, 256, 1, 1])\n",
            "torch.Size([64])\n",
            "torch.Size([64])\n",
            "torch.Size([64, 64, 3, 3])\n",
            "torch.Size([64])\n",
            "torch.Size([64])\n",
            "torch.Size([256, 64, 1, 1])\n",
            "torch.Size([256])\n",
            "torch.Size([256])\n",
            "torch.Size([128, 256, 1, 1])\n",
            "torch.Size([128])\n",
            "torch.Size([128])\n",
            "torch.Size([128, 128, 3, 3])\n",
            "torch.Size([128])\n",
            "torch.Size([128])\n",
            "torch.Size([512, 128, 1, 1])\n",
            "torch.Size([512])\n",
            "torch.Size([512])\n",
            "torch.Size([512, 256, 1, 1])\n",
            "torch.Size([512])\n",
            "torch.Size([512])\n",
            "torch.Size([128, 512, 1, 1])\n",
            "torch.Size([128])\n",
            "torch.Size([128])\n",
            "torch.Size([128, 128, 3, 3])\n",
            "torch.Size([128])\n",
            "torch.Size([128])\n",
            "torch.Size([512, 128, 1, 1])\n",
            "torch.Size([512])\n",
            "torch.Size([512])\n",
            "torch.Size([128, 512, 1, 1])\n",
            "torch.Size([128])\n",
            "torch.Size([128])\n",
            "torch.Size([128, 128, 3, 3])\n",
            "torch.Size([128])\n",
            "torch.Size([128])\n",
            "torch.Size([512, 128, 1, 1])\n",
            "torch.Size([512])\n",
            "torch.Size([512])\n",
            "torch.Size([128, 512, 1, 1])\n",
            "torch.Size([128])\n",
            "torch.Size([128])\n",
            "torch.Size([128, 128, 3, 3])\n",
            "torch.Size([128])\n",
            "torch.Size([128])\n",
            "torch.Size([512, 128, 1, 1])\n",
            "torch.Size([512])\n",
            "torch.Size([512])\n",
            "torch.Size([256, 512, 1, 1])\n",
            "torch.Size([256])\n",
            "torch.Size([256])\n",
            "torch.Size([256, 256, 3, 3])\n",
            "torch.Size([256])\n",
            "torch.Size([256])\n",
            "torch.Size([1024, 256, 1, 1])\n",
            "torch.Size([1024])\n",
            "torch.Size([1024])\n",
            "torch.Size([1024, 512, 1, 1])\n",
            "torch.Size([1024])\n",
            "torch.Size([1024])\n",
            "torch.Size([256, 1024, 1, 1])\n",
            "torch.Size([256])\n",
            "torch.Size([256])\n",
            "torch.Size([256, 256, 3, 3])\n",
            "torch.Size([256])\n",
            "torch.Size([256])\n",
            "torch.Size([1024, 256, 1, 1])\n",
            "torch.Size([1024])\n",
            "torch.Size([1024])\n",
            "torch.Size([256, 1024, 1, 1])\n",
            "torch.Size([256])\n",
            "torch.Size([256])\n",
            "torch.Size([256, 256, 3, 3])\n",
            "torch.Size([256])\n",
            "torch.Size([256])\n",
            "torch.Size([1024, 256, 1, 1])\n",
            "torch.Size([1024])\n",
            "torch.Size([1024])\n",
            "torch.Size([256, 1024, 1, 1])\n",
            "torch.Size([256])\n",
            "torch.Size([256])\n",
            "torch.Size([256, 256, 3, 3])\n",
            "torch.Size([256])\n",
            "torch.Size([256])\n",
            "torch.Size([1024, 256, 1, 1])\n",
            "torch.Size([1024])\n",
            "torch.Size([1024])\n",
            "torch.Size([256, 1024, 1, 1])\n",
            "torch.Size([256])\n",
            "torch.Size([256])\n",
            "torch.Size([256, 256, 3, 3])\n",
            "torch.Size([256])\n",
            "torch.Size([256])\n",
            "torch.Size([1024, 256, 1, 1])\n",
            "torch.Size([1024])\n",
            "torch.Size([1024])\n",
            "torch.Size([256, 1024, 1, 1])\n",
            "torch.Size([256])\n",
            "torch.Size([256])\n",
            "torch.Size([256, 256, 3, 3])\n",
            "torch.Size([256])\n",
            "torch.Size([256])\n",
            "torch.Size([1024, 256, 1, 1])\n",
            "torch.Size([1024])\n",
            "torch.Size([1024])\n",
            "torch.Size([512, 1024, 1, 1])\n",
            "torch.Size([512])\n",
            "torch.Size([512])\n",
            "torch.Size([512, 512, 3, 3])\n",
            "torch.Size([512])\n",
            "torch.Size([512])\n",
            "torch.Size([2048, 512, 1, 1])\n",
            "torch.Size([2048])\n",
            "torch.Size([2048])\n",
            "torch.Size([2048, 1024, 1, 1])\n",
            "torch.Size([2048])\n",
            "torch.Size([2048])\n",
            "torch.Size([512, 2048, 1, 1])\n",
            "torch.Size([512])\n",
            "torch.Size([512])\n",
            "torch.Size([512, 512, 3, 3])\n",
            "torch.Size([512])\n",
            "torch.Size([512])\n",
            "torch.Size([2048, 512, 1, 1])\n",
            "torch.Size([2048])\n",
            "torch.Size([2048])\n",
            "torch.Size([512, 2048, 1, 1])\n",
            "torch.Size([512])\n",
            "torch.Size([512])\n",
            "torch.Size([512, 512, 3, 3])\n",
            "torch.Size([512])\n",
            "torch.Size([512])\n",
            "torch.Size([2048, 512, 1, 1])\n",
            "torch.Size([2048])\n",
            "torch.Size([2048])\n",
            "torch.Size([256, 2048])\n",
            "torch.Size([256])\n",
            "torch.Size([12, 256])\n",
            "torch.Size([12])\n"
          ]
        }
      ],
      "source": [
        "from torch import optim\n",
        "criterion = nn.CrossEntropyLoss()\n",
        "optimizer = optim.Adam(model.parameters())\n",
        "for p in optimizer.param_groups[0]['params']:\n",
        "    if p.requires_grad:\n",
        "        print(p.shape) "
      ]
    },
    {
      "cell_type": "code",
      "execution_count": null,
      "metadata": {
        "id": "5x2pTGIbg733",
        "colab": {
          "base_uri": "https://localhost:8080/",
          "height": 100
        },
        "outputId": "e247cd1b-f91f-4125-cff8-04d4af84db31"
      },
      "outputs": [
        {
          "output_type": "execute_result",
          "data": {
            "text/plain": [
              "   Train_loss  Train_acc  Val_loss   Val_ac\n",
              "0    2.519944   0.142857  2.480849  0.04878"
            ],
            "text/html": [
              "\n",
              "  <div id=\"df-2189feec-43c7-4233-962a-965b0f29b573\">\n",
              "    <div class=\"colab-df-container\">\n",
              "      <div>\n",
              "<style scoped>\n",
              "    .dataframe tbody tr th:only-of-type {\n",
              "        vertical-align: middle;\n",
              "    }\n",
              "\n",
              "    .dataframe tbody tr th {\n",
              "        vertical-align: top;\n",
              "    }\n",
              "\n",
              "    .dataframe thead th {\n",
              "        text-align: right;\n",
              "    }\n",
              "</style>\n",
              "<table border=\"1\" class=\"dataframe\">\n",
              "  <thead>\n",
              "    <tr style=\"text-align: right;\">\n",
              "      <th></th>\n",
              "      <th>Train_loss</th>\n",
              "      <th>Train_acc</th>\n",
              "      <th>Val_loss</th>\n",
              "      <th>Val_ac</th>\n",
              "    </tr>\n",
              "  </thead>\n",
              "  <tbody>\n",
              "    <tr>\n",
              "      <th>0</th>\n",
              "      <td>2.519944</td>\n",
              "      <td>0.142857</td>\n",
              "      <td>2.480849</td>\n",
              "      <td>0.04878</td>\n",
              "    </tr>\n",
              "  </tbody>\n",
              "</table>\n",
              "</div>\n",
              "      <button class=\"colab-df-convert\" onclick=\"convertToInteractive('df-2189feec-43c7-4233-962a-965b0f29b573')\"\n",
              "              title=\"Convert this dataframe to an interactive table.\"\n",
              "              style=\"display:none;\">\n",
              "        \n",
              "  <svg xmlns=\"http://www.w3.org/2000/svg\" height=\"24px\"viewBox=\"0 0 24 24\"\n",
              "       width=\"24px\">\n",
              "    <path d=\"M0 0h24v24H0V0z\" fill=\"none\"/>\n",
              "    <path d=\"M18.56 5.44l.94 2.06.94-2.06 2.06-.94-2.06-.94-.94-2.06-.94 2.06-2.06.94zm-11 1L8.5 8.5l.94-2.06 2.06-.94-2.06-.94L8.5 2.5l-.94 2.06-2.06.94zm10 10l.94 2.06.94-2.06 2.06-.94-2.06-.94-.94-2.06-.94 2.06-2.06.94z\"/><path d=\"M17.41 7.96l-1.37-1.37c-.4-.4-.92-.59-1.43-.59-.52 0-1.04.2-1.43.59L10.3 9.45l-7.72 7.72c-.78.78-.78 2.05 0 2.83L4 21.41c.39.39.9.59 1.41.59.51 0 1.02-.2 1.41-.59l7.78-7.78 2.81-2.81c.8-.78.8-2.07 0-2.86zM5.41 20L4 18.59l7.72-7.72 1.47 1.35L5.41 20z\"/>\n",
              "  </svg>\n",
              "      </button>\n",
              "      \n",
              "  <style>\n",
              "    .colab-df-container {\n",
              "      display:flex;\n",
              "      flex-wrap:wrap;\n",
              "      gap: 12px;\n",
              "    }\n",
              "\n",
              "    .colab-df-convert {\n",
              "      background-color: #E8F0FE;\n",
              "      border: none;\n",
              "      border-radius: 50%;\n",
              "      cursor: pointer;\n",
              "      display: none;\n",
              "      fill: #1967D2;\n",
              "      height: 32px;\n",
              "      padding: 0 0 0 0;\n",
              "      width: 32px;\n",
              "    }\n",
              "\n",
              "    .colab-df-convert:hover {\n",
              "      background-color: #E2EBFA;\n",
              "      box-shadow: 0px 1px 2px rgba(60, 64, 67, 0.3), 0px 1px 3px 1px rgba(60, 64, 67, 0.15);\n",
              "      fill: #174EA6;\n",
              "    }\n",
              "\n",
              "    [theme=dark] .colab-df-convert {\n",
              "      background-color: #3B4455;\n",
              "      fill: #D2E3FC;\n",
              "    }\n",
              "\n",
              "    [theme=dark] .colab-df-convert:hover {\n",
              "      background-color: #434B5C;\n",
              "      box-shadow: 0px 1px 3px 1px rgba(0, 0, 0, 0.15);\n",
              "      filter: drop-shadow(0px 1px 2px rgba(0, 0, 0, 0.3));\n",
              "      fill: #FFFFFF;\n",
              "    }\n",
              "  </style>\n",
              "\n",
              "      <script>\n",
              "        const buttonEl =\n",
              "          document.querySelector('#df-2189feec-43c7-4233-962a-965b0f29b573 button.colab-df-convert');\n",
              "        buttonEl.style.display =\n",
              "          google.colab.kernel.accessAllowed ? 'block' : 'none';\n",
              "\n",
              "        async function convertToInteractive(key) {\n",
              "          const element = document.querySelector('#df-2189feec-43c7-4233-962a-965b0f29b573');\n",
              "          const dataTable =\n",
              "            await google.colab.kernel.invokeFunction('convertToInteractive',\n",
              "                                                     [key], {});\n",
              "          if (!dataTable) return;\n",
              "\n",
              "          const docLinkHtml = 'Like what you see? Visit the ' +\n",
              "            '<a target=\"_blank\" href=https://colab.research.google.com/notebooks/data_table.ipynb>data table notebook</a>'\n",
              "            + ' to learn more about interactive tables.';\n",
              "          element.innerHTML = '';\n",
              "          dataTable['output_type'] = 'display_data';\n",
              "          await google.colab.output.renderOutput(dataTable, element);\n",
              "          const docLink = document.createElement('div');\n",
              "          docLink.innerHTML = docLinkHtml;\n",
              "          element.appendChild(docLink);\n",
              "        }\n",
              "      </script>\n",
              "    </div>\n",
              "  </div>\n",
              "  "
            ]
          },
          "metadata": {},
          "execution_count": 168
        }
      ],
      "source": [
        "model2, history = train(model2, criterion, optimizer, dataloaders['train'], dataloaders['val'], n_epochs=10)\n",
        "history"
      ]
    },
    {
      "cell_type": "markdown",
      "metadata": {
        "id": "BhQI554Df-Hv"
      },
      "source": [
        "#Training a ResNet50 from Scratch"
      ]
    },
    {
      "cell_type": "code",
      "execution_count": null,
      "metadata": {
        "id": "wvzMY6Eclsmu"
      },
      "outputs": [],
      "source": [
        "#Model:\n",
        "from torchvision import models\n",
        "model2 = models.resnet50(pretrained=False)"
      ]
    },
    {
      "cell_type": "code",
      "execution_count": null,
      "metadata": {
        "id": "921aacq8lsmw"
      },
      "outputs": [],
      "source": [
        "for param in model.parameters():\n",
        "    param.requires_grad = True "
      ]
    },
    {
      "cell_type": "code",
      "execution_count": null,
      "metadata": {
        "id": "Gn_orQXSlsmw"
      },
      "outputs": [],
      "source": [
        "import torch.nn as nn\n",
        "n_inputs = model2.fc.in_features\n",
        "model2.fc = nn.Sequential(\n",
        "                      nn.Linear(n_inputs, 256),\n",
        "                      nn.ReLU(),\n",
        "                      nn.Dropout(0.4),\n",
        "                      nn.Linear(256, n_classes),\n",
        "                      nn.LogSoftmax(dim=1))"
      ]
    },
    {
      "cell_type": "code",
      "execution_count": null,
      "metadata": {
        "id": "VhNZuMCClsmx"
      },
      "outputs": [],
      "source": [
        "model2 = model2.to('cuda') "
      ]
    },
    {
      "cell_type": "code",
      "execution_count": null,
      "metadata": {
        "id": "ai_c1evPlsmx",
        "colab": {
          "base_uri": "https://localhost:8080/"
        },
        "outputId": "ffce85cc-ba25-4693-a55f-06148a7a4a7c"
      },
      "outputs": [
        {
          "output_type": "execute_result",
          "data": {
            "text/plain": [
              "[(0, 'Coke _Zero'),\n",
              " (1, 'Diet_Dr_Pepper'),\n",
              " (2, 'Dole_Orange_Juice'),\n",
              " (3, 'Fanta'),\n",
              " (4, 'Hawaiian_Punch'),\n",
              " (5, 'Kool-Aid'),\n",
              " (6, 'Minute_Maid_Orange'),\n",
              " (7, 'Snapple_Mango_Madness'),\n",
              " (8, 'Sunkist'),\n",
              " (9, 'Tropicana_Apple_Juice')]"
            ]
          },
          "metadata": {},
          "execution_count": 173
        }
      ],
      "source": [
        "model2.class_to_idx = data['train'].class_to_idx\n",
        "model2.idx_to_class = {\n",
        "    idx: class_\n",
        "    for class_, idx in model2.class_to_idx.items()\n",
        "}\n",
        "\n",
        "list(model2.idx_to_class.items())[:10] "
      ]
    },
    {
      "cell_type": "code",
      "execution_count": null,
      "metadata": {
        "id": "2rvsvDaJlsmz",
        "colab": {
          "base_uri": "https://localhost:8080/"
        },
        "outputId": "a9730e00-b4ee-49ce-cce8-dc7af0b08863"
      },
      "outputs": [
        {
          "output_type": "stream",
          "name": "stdout",
          "text": [
            "torch.Size([64, 3, 7, 7])\n",
            "torch.Size([64])\n",
            "torch.Size([64])\n",
            "torch.Size([64, 64, 1, 1])\n",
            "torch.Size([64])\n",
            "torch.Size([64])\n",
            "torch.Size([64, 64, 3, 3])\n",
            "torch.Size([64])\n",
            "torch.Size([64])\n",
            "torch.Size([256, 64, 1, 1])\n",
            "torch.Size([256])\n",
            "torch.Size([256])\n",
            "torch.Size([256, 64, 1, 1])\n",
            "torch.Size([256])\n",
            "torch.Size([256])\n",
            "torch.Size([64, 256, 1, 1])\n",
            "torch.Size([64])\n",
            "torch.Size([64])\n",
            "torch.Size([64, 64, 3, 3])\n",
            "torch.Size([64])\n",
            "torch.Size([64])\n",
            "torch.Size([256, 64, 1, 1])\n",
            "torch.Size([256])\n",
            "torch.Size([256])\n",
            "torch.Size([64, 256, 1, 1])\n",
            "torch.Size([64])\n",
            "torch.Size([64])\n",
            "torch.Size([64, 64, 3, 3])\n",
            "torch.Size([64])\n",
            "torch.Size([64])\n",
            "torch.Size([256, 64, 1, 1])\n",
            "torch.Size([256])\n",
            "torch.Size([256])\n",
            "torch.Size([128, 256, 1, 1])\n",
            "torch.Size([128])\n",
            "torch.Size([128])\n",
            "torch.Size([128, 128, 3, 3])\n",
            "torch.Size([128])\n",
            "torch.Size([128])\n",
            "torch.Size([512, 128, 1, 1])\n",
            "torch.Size([512])\n",
            "torch.Size([512])\n",
            "torch.Size([512, 256, 1, 1])\n",
            "torch.Size([512])\n",
            "torch.Size([512])\n",
            "torch.Size([128, 512, 1, 1])\n",
            "torch.Size([128])\n",
            "torch.Size([128])\n",
            "torch.Size([128, 128, 3, 3])\n",
            "torch.Size([128])\n",
            "torch.Size([128])\n",
            "torch.Size([512, 128, 1, 1])\n",
            "torch.Size([512])\n",
            "torch.Size([512])\n",
            "torch.Size([128, 512, 1, 1])\n",
            "torch.Size([128])\n",
            "torch.Size([128])\n",
            "torch.Size([128, 128, 3, 3])\n",
            "torch.Size([128])\n",
            "torch.Size([128])\n",
            "torch.Size([512, 128, 1, 1])\n",
            "torch.Size([512])\n",
            "torch.Size([512])\n",
            "torch.Size([128, 512, 1, 1])\n",
            "torch.Size([128])\n",
            "torch.Size([128])\n",
            "torch.Size([128, 128, 3, 3])\n",
            "torch.Size([128])\n",
            "torch.Size([128])\n",
            "torch.Size([512, 128, 1, 1])\n",
            "torch.Size([512])\n",
            "torch.Size([512])\n",
            "torch.Size([256, 512, 1, 1])\n",
            "torch.Size([256])\n",
            "torch.Size([256])\n",
            "torch.Size([256, 256, 3, 3])\n",
            "torch.Size([256])\n",
            "torch.Size([256])\n",
            "torch.Size([1024, 256, 1, 1])\n",
            "torch.Size([1024])\n",
            "torch.Size([1024])\n",
            "torch.Size([1024, 512, 1, 1])\n",
            "torch.Size([1024])\n",
            "torch.Size([1024])\n",
            "torch.Size([256, 1024, 1, 1])\n",
            "torch.Size([256])\n",
            "torch.Size([256])\n",
            "torch.Size([256, 256, 3, 3])\n",
            "torch.Size([256])\n",
            "torch.Size([256])\n",
            "torch.Size([1024, 256, 1, 1])\n",
            "torch.Size([1024])\n",
            "torch.Size([1024])\n",
            "torch.Size([256, 1024, 1, 1])\n",
            "torch.Size([256])\n",
            "torch.Size([256])\n",
            "torch.Size([256, 256, 3, 3])\n",
            "torch.Size([256])\n",
            "torch.Size([256])\n",
            "torch.Size([1024, 256, 1, 1])\n",
            "torch.Size([1024])\n",
            "torch.Size([1024])\n",
            "torch.Size([256, 1024, 1, 1])\n",
            "torch.Size([256])\n",
            "torch.Size([256])\n",
            "torch.Size([256, 256, 3, 3])\n",
            "torch.Size([256])\n",
            "torch.Size([256])\n",
            "torch.Size([1024, 256, 1, 1])\n",
            "torch.Size([1024])\n",
            "torch.Size([1024])\n",
            "torch.Size([256, 1024, 1, 1])\n",
            "torch.Size([256])\n",
            "torch.Size([256])\n",
            "torch.Size([256, 256, 3, 3])\n",
            "torch.Size([256])\n",
            "torch.Size([256])\n",
            "torch.Size([1024, 256, 1, 1])\n",
            "torch.Size([1024])\n",
            "torch.Size([1024])\n",
            "torch.Size([256, 1024, 1, 1])\n",
            "torch.Size([256])\n",
            "torch.Size([256])\n",
            "torch.Size([256, 256, 3, 3])\n",
            "torch.Size([256])\n",
            "torch.Size([256])\n",
            "torch.Size([1024, 256, 1, 1])\n",
            "torch.Size([1024])\n",
            "torch.Size([1024])\n",
            "torch.Size([512, 1024, 1, 1])\n",
            "torch.Size([512])\n",
            "torch.Size([512])\n",
            "torch.Size([512, 512, 3, 3])\n",
            "torch.Size([512])\n",
            "torch.Size([512])\n",
            "torch.Size([2048, 512, 1, 1])\n",
            "torch.Size([2048])\n",
            "torch.Size([2048])\n",
            "torch.Size([2048, 1024, 1, 1])\n",
            "torch.Size([2048])\n",
            "torch.Size([2048])\n",
            "torch.Size([512, 2048, 1, 1])\n",
            "torch.Size([512])\n",
            "torch.Size([512])\n",
            "torch.Size([512, 512, 3, 3])\n",
            "torch.Size([512])\n",
            "torch.Size([512])\n",
            "torch.Size([2048, 512, 1, 1])\n",
            "torch.Size([2048])\n",
            "torch.Size([2048])\n",
            "torch.Size([512, 2048, 1, 1])\n",
            "torch.Size([512])\n",
            "torch.Size([512])\n",
            "torch.Size([512, 512, 3, 3])\n",
            "torch.Size([512])\n",
            "torch.Size([512])\n",
            "torch.Size([2048, 512, 1, 1])\n",
            "torch.Size([2048])\n",
            "torch.Size([2048])\n",
            "torch.Size([256, 2048])\n",
            "torch.Size([256])\n",
            "torch.Size([12, 256])\n",
            "torch.Size([12])\n"
          ]
        }
      ],
      "source": [
        "from torch import optim\n",
        "criterion = nn.CrossEntropyLoss()\n",
        "optimizer = optim.Adam(model.parameters())\n",
        "for p in optimizer.param_groups[0]['params']:\n",
        "    if p.requires_grad:\n",
        "        print(p.shape) "
      ]
    },
    {
      "cell_type": "code",
      "execution_count": null,
      "metadata": {
        "id": "uO1mHLcHlsm0",
        "colab": {
          "base_uri": "https://localhost:8080/",
          "height": 100
        },
        "outputId": "e5147745-b5d7-4d15-ba9d-bf4f92fb0ebb"
      },
      "outputs": [
        {
          "output_type": "execute_result",
          "data": {
            "text/plain": [
              "   Train_loss  Train_acc  Val_loss    Val_ac\n",
              "0    2.556174   0.095238  2.526237  0.073171"
            ],
            "text/html": [
              "\n",
              "  <div id=\"df-03c0d0c1-750a-4e00-9c2f-71a627a526d5\">\n",
              "    <div class=\"colab-df-container\">\n",
              "      <div>\n",
              "<style scoped>\n",
              "    .dataframe tbody tr th:only-of-type {\n",
              "        vertical-align: middle;\n",
              "    }\n",
              "\n",
              "    .dataframe tbody tr th {\n",
              "        vertical-align: top;\n",
              "    }\n",
              "\n",
              "    .dataframe thead th {\n",
              "        text-align: right;\n",
              "    }\n",
              "</style>\n",
              "<table border=\"1\" class=\"dataframe\">\n",
              "  <thead>\n",
              "    <tr style=\"text-align: right;\">\n",
              "      <th></th>\n",
              "      <th>Train_loss</th>\n",
              "      <th>Train_acc</th>\n",
              "      <th>Val_loss</th>\n",
              "      <th>Val_ac</th>\n",
              "    </tr>\n",
              "  </thead>\n",
              "  <tbody>\n",
              "    <tr>\n",
              "      <th>0</th>\n",
              "      <td>2.556174</td>\n",
              "      <td>0.095238</td>\n",
              "      <td>2.526237</td>\n",
              "      <td>0.073171</td>\n",
              "    </tr>\n",
              "  </tbody>\n",
              "</table>\n",
              "</div>\n",
              "      <button class=\"colab-df-convert\" onclick=\"convertToInteractive('df-03c0d0c1-750a-4e00-9c2f-71a627a526d5')\"\n",
              "              title=\"Convert this dataframe to an interactive table.\"\n",
              "              style=\"display:none;\">\n",
              "        \n",
              "  <svg xmlns=\"http://www.w3.org/2000/svg\" height=\"24px\"viewBox=\"0 0 24 24\"\n",
              "       width=\"24px\">\n",
              "    <path d=\"M0 0h24v24H0V0z\" fill=\"none\"/>\n",
              "    <path d=\"M18.56 5.44l.94 2.06.94-2.06 2.06-.94-2.06-.94-.94-2.06-.94 2.06-2.06.94zm-11 1L8.5 8.5l.94-2.06 2.06-.94-2.06-.94L8.5 2.5l-.94 2.06-2.06.94zm10 10l.94 2.06.94-2.06 2.06-.94-2.06-.94-.94-2.06-.94 2.06-2.06.94z\"/><path d=\"M17.41 7.96l-1.37-1.37c-.4-.4-.92-.59-1.43-.59-.52 0-1.04.2-1.43.59L10.3 9.45l-7.72 7.72c-.78.78-.78 2.05 0 2.83L4 21.41c.39.39.9.59 1.41.59.51 0 1.02-.2 1.41-.59l7.78-7.78 2.81-2.81c.8-.78.8-2.07 0-2.86zM5.41 20L4 18.59l7.72-7.72 1.47 1.35L5.41 20z\"/>\n",
              "  </svg>\n",
              "      </button>\n",
              "      \n",
              "  <style>\n",
              "    .colab-df-container {\n",
              "      display:flex;\n",
              "      flex-wrap:wrap;\n",
              "      gap: 12px;\n",
              "    }\n",
              "\n",
              "    .colab-df-convert {\n",
              "      background-color: #E8F0FE;\n",
              "      border: none;\n",
              "      border-radius: 50%;\n",
              "      cursor: pointer;\n",
              "      display: none;\n",
              "      fill: #1967D2;\n",
              "      height: 32px;\n",
              "      padding: 0 0 0 0;\n",
              "      width: 32px;\n",
              "    }\n",
              "\n",
              "    .colab-df-convert:hover {\n",
              "      background-color: #E2EBFA;\n",
              "      box-shadow: 0px 1px 2px rgba(60, 64, 67, 0.3), 0px 1px 3px 1px rgba(60, 64, 67, 0.15);\n",
              "      fill: #174EA6;\n",
              "    }\n",
              "\n",
              "    [theme=dark] .colab-df-convert {\n",
              "      background-color: #3B4455;\n",
              "      fill: #D2E3FC;\n",
              "    }\n",
              "\n",
              "    [theme=dark] .colab-df-convert:hover {\n",
              "      background-color: #434B5C;\n",
              "      box-shadow: 0px 1px 3px 1px rgba(0, 0, 0, 0.15);\n",
              "      filter: drop-shadow(0px 1px 2px rgba(0, 0, 0, 0.3));\n",
              "      fill: #FFFFFF;\n",
              "    }\n",
              "  </style>\n",
              "\n",
              "      <script>\n",
              "        const buttonEl =\n",
              "          document.querySelector('#df-03c0d0c1-750a-4e00-9c2f-71a627a526d5 button.colab-df-convert');\n",
              "        buttonEl.style.display =\n",
              "          google.colab.kernel.accessAllowed ? 'block' : 'none';\n",
              "\n",
              "        async function convertToInteractive(key) {\n",
              "          const element = document.querySelector('#df-03c0d0c1-750a-4e00-9c2f-71a627a526d5');\n",
              "          const dataTable =\n",
              "            await google.colab.kernel.invokeFunction('convertToInteractive',\n",
              "                                                     [key], {});\n",
              "          if (!dataTable) return;\n",
              "\n",
              "          const docLinkHtml = 'Like what you see? Visit the ' +\n",
              "            '<a target=\"_blank\" href=https://colab.research.google.com/notebooks/data_table.ipynb>data table notebook</a>'\n",
              "            + ' to learn more about interactive tables.';\n",
              "          element.innerHTML = '';\n",
              "          dataTable['output_type'] = 'display_data';\n",
              "          await google.colab.output.renderOutput(dataTable, element);\n",
              "          const docLink = document.createElement('div');\n",
              "          docLink.innerHTML = docLinkHtml;\n",
              "          element.appendChild(docLink);\n",
              "        }\n",
              "      </script>\n",
              "    </div>\n",
              "  </div>\n",
              "  "
            ]
          },
          "metadata": {},
          "execution_count": 175
        }
      ],
      "source": [
        "model2, history = train(model2, criterion, optimizer, dataloaders['train'], dataloaders['val'], n_epochs=10)\n",
        "history"
      ]
    },
    {
      "cell_type": "code",
      "execution_count": null,
      "metadata": {
        "id": "nCy2Gqp4jrwd"
      },
      "outputs": [],
      "source": [
        "test_pths = os.listdir(\"/content/data/test/Coke _Zero\")\n",
        "img_path = '/content/data/test/Coke _Zero/'+str(test_pths[0])\n",
        "img, top_p, top_classes, real_class = predict(img_path, model2,topk=3)"
      ]
    },
    {
      "cell_type": "code",
      "execution_count": null,
      "metadata": {
        "id": "T6G1hZqijxF2",
        "colab": {
          "base_uri": "https://localhost:8080/"
        },
        "outputId": "0aa5f601-635e-4853-a25c-2c6687ed7575"
      },
      "outputs": [
        {
          "output_type": "execute_result",
          "data": {
            "text/plain": [
              "(array([0.11403336, 0.10687305, 0.09213369], dtype=float32),\n",
              " ['Dole_Orange_Juice', 'Minute_Maid_Orange', 'Tropicana_Apple_Juice'])"
            ]
          },
          "metadata": {},
          "execution_count": 180
        }
      ],
      "source": [
        "top_p, top_classes"
      ]
    },
    {
      "cell_type": "code",
      "execution_count": null,
      "metadata": {
        "id": "cr9VzVmCjzki",
        "colab": {
          "base_uri": "https://localhost:8080/",
          "height": 370
        },
        "outputId": "bbf6c8de-13ce-4234-877c-76b7306dfdfe"
      },
      "outputs": [
        {
          "output_type": "display_data",
          "data": {
            "text/plain": [
              "<Figure size 1152x360 with 2 Axes>"
            ],
            "image/png": "[encoded data removed]"
          },
          "metadata": {
            "needs_background": "light"
          }
        }
      ],
      "source": [
        "display_prediction(img_path, model2, topk=3)"
      ]
    },
    {
      "cell_type": "code",
      "execution_count": null,
      "metadata": {
        "id": "lzs625iYjeqf"
      },
      "outputs": [],
      "source": [
        "results, confusion_matrix = evaluate(model2, dataloaders['test'], criterion)"
      ]
    },
    {
      "cell_type": "code",
      "execution_count": null,
      "metadata": {
        "id": "Pf2ENVe4jj64",
        "colab": {
          "base_uri": "https://localhost:8080/",
          "height": 1000
        },
        "outputId": "0ad4da9f-e3f6-4e97-8ac3-c4cdfb0c3667"
      },
      "outputs": [
        {
          "output_type": "stream",
          "name": "stdout",
          "text": [
            "Confusion matrix, without normalization\n"
          ]
        },
        {
          "output_type": "display_data",
          "data": {
            "text/plain": [
              "<Figure size 1080x1080 with 2 Axes>"
            ],
            "image/png": "[encoded data removed]"
          },
          "metadata": {
            "needs_background": "light"
          }
        }
      ],
      "source": [
        "classnames = [model2.idx_to_class[i] for i in range(0,n_classes)]\n",
        "plt.figure(figsize=(15,15))\n",
        "plt = plot_confusion_matrix(confusion_matrix, classnames)"
      ]
    },
    {
      "cell_type": "code",
      "execution_count": null,
      "metadata": {
        "id": "YQB2O9IFkGwo",
        "colab": {
          "base_uri": "https://localhost:8080/"
        },
        "outputId": "fb7d8e21-e977-4916-9828-5157ba6935de"
      },
      "outputs": [
        {
          "output_type": "stream",
          "name": "stdout",
          "text": [
            "Overall Accuracy:4.878048419952393%\n"
          ]
        }
      ],
      "source": [
        "print(f\"Overall Accuracy:{(confusion_matrix.diag().sum()/confusion_matrix.sum())*100}%\")"
      ]
    }
  ],
  "metadata": {
    "accelerator": "GPU",
    "colab": {
      "collapsed_sections": [],
      "name": "RN50_FYP_Beverages",
      "provenance": [],
      "authorship_tag": "ABX9TyMwDpa3lCdHWzh1+MoCaSRG"
    },
    "kernelspec": {
      "display_name": "Python 3",
      "name": "python3"
    },
    "language_info": {
      "name": "python"
    }
  },
  "nbformat": 4,
  "nbformat_minor": 0
}